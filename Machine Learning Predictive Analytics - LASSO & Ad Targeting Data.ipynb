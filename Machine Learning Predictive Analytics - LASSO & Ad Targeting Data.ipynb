{
 "cells": [
  {
   "cell_type": "markdown",
   "metadata": {},
   "source": [
    "# Ad Targeting Using LASSO Regression\n",
    "## By Chris Vargo\n",
    "### Created for APRD6342"
   ]
  },
  {
   "cell_type": "code",
   "execution_count": 1,
   "metadata": {},
   "outputs": [
    {
     "name": "stderr",
     "output_type": "stream",
     "text": [
      "/Users/cvargo/anaconda3/lib/python3.6/site-packages/sklearn/cross_validation.py:41: DeprecationWarning: This module was deprecated in version 0.18 in favor of the model_selection module into which all the refactored classes and functions are moved. Also note that the interface of the new CV iterators are different from that of this module. This module will be removed in 0.20.\n",
      "  \"This module will be removed in 0.20.\", DeprecationWarning)\n"
     ]
    }
   ],
   "source": [
    "#from pandas import Series, DataFrame\n",
    "import pandas as pd\n",
    "import pandas\n",
    "from sklearn.cross_validation import train_test_split\n",
    "from sklearn.linear_model import LassoLarsCV\n",
    "import matplotlib.pyplot as plt\n",
    "import warnings\n",
    "from sklearn.metrics import mean_squared_error\n",
    "warnings.filterwarnings('ignore')\n",
    "\n",
    "\n",
    "#data can be found in github repo\n",
    "datafile = \"finalmaster-ratios.csv\"\n",
    "\n",
    "alldata = pandas.read_csv(datafile)\n",
    "\n",
    "allvariablenames = list(alldata.columns.values)\n",
    "\n",
    "#mass choose predictors\n",
    "listofallpredictors = []\n",
    "for avar in allvariablenames[8:409]: #specify range here\n",
    "    listofallpredictors.append(avar)"
   ]
  },
  {
   "cell_type": "code",
   "execution_count": 2,
   "metadata": {
    "scrolled": true
   },
   "outputs": [
    {
     "name": "stdout",
     "output_type": "stream",
     "text": [
      "['B01001008', 'B01001009', 'B01001010', 'B01001011', 'B01001012', 'B01001013', 'B01001014', 'B01001015', 'B01001016', 'B01001017', 'B01001018', 'B01001019', 'B01001020', 'B01001021', 'B01001022', 'B01001023', 'B01001024', 'B01001025', 'B01001026', 'B01001027', 'B01001028', 'B01001029', 'B01001030', 'B01001031', 'B01001032', 'B01001033', 'B01001034', 'B01001035', 'B01001036', 'B01001037', 'B01001038', 'B01001039', 'B01001040', 'B01001041', 'B01001042', 'B01001043', 'B01001044', 'B01001045', 'B01001046', 'B01001047', 'B01001048', 'B01001049', 'B02001001', 'B02001002', 'B02001003', 'B02001004', 'B02001005', 'B02001006', 'B02001007', 'B02001008', 'B02001009', 'B02001010', 'B12001001', 'B12001002', 'B12001003', 'B12001004', 'B12001005', 'B12001006', 'B12001007', 'B12001008', 'B12001009', 'B12001010', 'B12001011', 'B12001012', 'B12001013', 'B12001014', 'B12001015', 'B12001016', 'B12001017', 'B12001018', 'B12001019', 'B13014001', 'B13014002', 'B13014003', 'B13014004', 'B13014005', 'B13014006', 'B13014007', 'B13014008', 'B13014009', 'B13014010', 'B13014011', 'B13014012', 'B13014013', 'B13014014', 'B13014015', 'B13014016', 'B13014017', 'B13014018', 'B13014019', 'B13014020', 'B13014021', 'B13014022', 'B13014023', 'B13014024', 'B13014025', 'B13014026', 'B13014027', 'B13015001', 'B13015002', 'B13015003', 'B13015004', 'B13015005', 'B13015006', 'B13015007', 'B13015008', 'B13015009', 'B13015010', 'B13015011', 'B13015012', 'B13015013', 'B13015014', 'B13015015', 'B13016001', 'B13016002', 'B13016003', 'B13016004', 'B13016005', 'B13016006', 'B13016007', 'B13016008', 'B13016009', 'B13016010', 'B13016011', 'B13016012', 'B13016013', 'B13016014', 'B13016015', 'B13016016', 'B13016017', 'B15002001', 'B15002002', 'B15002003', 'B15002004', 'B15002005', 'B15002006', 'B15002007', 'B15002008', 'B15002009', 'B15002010', 'B15002011', 'B15002012', 'B15002013', 'B15002014', 'B15002015', 'B15002016', 'B15002017', 'B15002018', 'B15002019', 'B15002020', 'B15002021', 'B15002022', 'B15002023', 'B15002024', 'B15002025', 'B15002026', 'B15002027', 'B15002028', 'B15002029', 'B15002030', 'B15002031', 'B15002032', 'B15002033', 'B15002034', 'B15002035', 'B19001001', 'B19001002', 'B19001003', 'B19001004', 'B19001005', 'B19001006', 'B19001007', 'B19001008', 'B19001009', 'B19001010', 'B19001011', 'B19001012', 'B19001013', 'B19001014', 'B19001015', 'B19001016', 'B19001017']\n"
     ]
    }
   ],
   "source": [
    "print(listofallpredictors)"
   ]
  },
  {
   "cell_type": "code",
   "execution_count": 3,
   "metadata": {},
   "outputs": [],
   "source": [
    "#load predictors into dataframe\n",
    "predictors = alldata[listofallpredictors]  \n",
    "\n",
    "#load target into dataframe\n",
    "target = alldata['# Purchases']     \n",
    "\n",
    "#normalise predictors  to have mean = 0 and sd=1\n",
    "#for apredictor in listofpredictors:\n",
    "#    predictors[apredictor]=preprocessing.scale(predictors[apredictor].astype('float64')) \n",
    "\n",
    "\n",
    "# split data into train and test sets, with 30% retained for test\n",
    "\n",
    "pred_train, pred_test, tar_train, tar_test = train_test_split(predictors, target, test_size=.3, random_state=123)"
   ]
  },
  {
   "cell_type": "code",
   "execution_count": null,
   "metadata": {},
   "outputs": [],
   "source": []
  }
 ],
 "metadata": {
  "kernelspec": {
   "display_name": "Python 3",
   "language": "python",
   "name": "python3"
  },
  "language_info": {
   "codemirror_mode": {
    "name": "ipython",
    "version": 3
   },
   "file_extension": ".py",
   "mimetype": "text/x-python",
   "name": "python",
   "nbconvert_exporter": "python",
   "pygments_lexer": "ipython3",
   "version": "3.6.5"
  }
 },
 "nbformat": 4,
 "nbformat_minor": 2
}
